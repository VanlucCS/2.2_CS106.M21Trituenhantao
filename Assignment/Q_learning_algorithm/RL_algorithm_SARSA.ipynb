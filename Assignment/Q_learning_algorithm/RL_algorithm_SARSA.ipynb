{
  "nbformat": 4,
  "nbformat_minor": 0,
  "metadata": {
    "colab": {
      "name": "Q_Learning.ipynb",
      "provenance": [],
      "collapsed_sections": [],
      "toc_visible": true
    },
    "kernelspec": {
      "name": "python3",
      "display_name": "Python 3"
    },
    "language_info": {
      "name": "python"
    }
  },
  "cells": [
    {
      "cell_type": "code",
      "metadata": {
        "id": "g8P_laMcSQNk"
      },
      "source": [
        "import gym\n",
        "import numpy as np\n",
        "import random\n",
        "import time\n",
        "import matplotlib.pyplot as plt\n",
        "%matplotlib inline"
      ],
      "execution_count": 1,
      "outputs": []
    },
    {
      "cell_type": "code",
      "metadata": {
        "id": "xifGZ8j-SWPT"
      },
      "source": [
        "env = gym.make('FrozenLake-v0')"
      ],
      "execution_count": 2,
      "outputs": []
    },
    {
      "cell_type": "code",
      "metadata": {
        "colab": {
          "base_uri": "https://localhost:8080/"
        },
        "id": "KpG5Q7_XSdPw",
        "outputId": "891a8196-3e58-40b5-cc51-fa4ccaa1370e"
      },
      "source": [
        "# Initialize Q-value table randomly\n",
        "q_table = np.zeros((env.observation_space.n, env.action_space.n))\n",
        "print(q_table)"
      ],
      "execution_count": 3,
      "outputs": [
        {
          "output_type": "stream",
          "name": "stdout",
          "text": [
            "[[0. 0. 0. 0.]\n",
            " [0. 0. 0. 0.]\n",
            " [0. 0. 0. 0.]\n",
            " [0. 0. 0. 0.]\n",
            " [0. 0. 0. 0.]\n",
            " [0. 0. 0. 0.]\n",
            " [0. 0. 0. 0.]\n",
            " [0. 0. 0. 0.]\n",
            " [0. 0. 0. 0.]\n",
            " [0. 0. 0. 0.]\n",
            " [0. 0. 0. 0.]\n",
            " [0. 0. 0. 0.]\n",
            " [0. 0. 0. 0.]\n",
            " [0. 0. 0. 0.]\n",
            " [0. 0. 0. 0.]\n",
            " [0. 0. 0. 0.]]\n"
          ]
        }
      ]
    },
    {
      "cell_type": "code",
      "metadata": {
        "id": "dFsyfXH5Ssd6"
      },
      "source": [
        "# Hyperparameters\n",
        "gamma = 0.99\n",
        "learning_rate = 0.1\n",
        "max_epsilon = 1.0\n",
        "min_epsilon = 0.01\n",
        "epsilon_decay_rate = 0.005\n",
        "\n",
        "num_episodes = 20000\n",
        "num_steps_per_episode = 100"
      ],
      "execution_count": 4,
      "outputs": []
    },
    {
      "cell_type": "code",
      "metadata": {
        "id": "d3xVez-WTeww"
      },
      "source": [
        "def q_learning(env, num_episodes, num_steps_per_episode, learning_rate, gamma, max_epsilon, min_epsilon, epsilon_decay_rate):\n",
        "    q_table = np.zeros((env.observation_space.n, env.action_space.n))\n",
        "    rewards_all = []\n",
        "    for episode in range(num_episodes):\n",
        "        state = env.reset()\n",
        "\n",
        "        reward_episode = 0.0\n",
        "        done = False\n",
        "        epsilon = min_epsilon + (max_epsilon - min_epsilon) * np.exp(-epsilon_decay_rate*episode)\n",
        "        for step in range(num_steps_per_episode):\n",
        "            exploration = random.uniform(0,1)\n",
        "            if exploration < epsilon:\n",
        "                action = env.action_space.sample()\n",
        "            else:\n",
        "                action = np.argmax(q_table[state, :])\n",
        "\n",
        "            next_state, reward, done, info = env.step(action)\n",
        "            q_table[state, action] = q_table[state, action] * (1 - learning_rate) + learning_rate * (reward + gamma * np.max(q_table[next_state,:]))\n",
        "\n",
        "            reward_episode += reward\n",
        "            state = next_state\n",
        "\n",
        "            if done:\n",
        "                break\n",
        "        rewards_all.append(reward_episode)\n",
        "    print(f'Episode {episode} finished')\n",
        "    return q_table, rewards_all"
      ],
      "execution_count": 2,
      "outputs": []
    },
    {
      "cell_type": "code",
      "metadata": {
        "colab": {
          "base_uri": "https://localhost:8080/"
        },
        "id": "jmauQUIQVOWr",
        "outputId": "47a01b94-9bfd-49a6-f353-71d6476bc6c7"
      },
      "source": [
        "q_table, rewards_all = q_learning(env, num_episodes, num_steps_per_episode, learning_rate, gamma, max_epsilon, min_epsilon, epsilon_decay_rate)"
      ],
      "execution_count": 6,
      "outputs": [
        {
          "output_type": "stream",
          "name": "stdout",
          "text": [
            "Episode 19999 finished\n"
          ]
        }
      ]
    },
    {
      "cell_type": "code",
      "metadata": {
        "id": "XBf-s9wsVX5Z",
        "colab": {
          "base_uri": "https://localhost:8080/"
        },
        "outputId": "85bf983b-d413-48e2-eb40-2e13f09098a3"
      },
      "source": [
        "q_table"
      ],
      "execution_count": 7,
      "outputs": [
        {
          "output_type": "execute_result",
          "data": {
            "text/plain": [
              "array([[0.54144231, 0.51850395, 0.5173635 , 0.52035461],\n",
              "       [0.2690804 , 0.28296557, 0.29764643, 0.50874562],\n",
              "       [0.43129998, 0.41696614, 0.41744053, 0.47275729],\n",
              "       [0.3268185 , 0.34568694, 0.3703365 , 0.46252265],\n",
              "       [0.57263645, 0.34975402, 0.41300836, 0.40625569],\n",
              "       [0.        , 0.        , 0.        , 0.        ],\n",
              "       [0.2631156 , 0.14803228, 0.18241971, 0.11626537],\n",
              "       [0.        , 0.        , 0.        , 0.        ],\n",
              "       [0.39379015, 0.37214093, 0.41090825, 0.60514798],\n",
              "       [0.371191  , 0.66948573, 0.53737077, 0.39108022],\n",
              "       [0.65876819, 0.41392648, 0.37238336, 0.29083984],\n",
              "       [0.        , 0.        , 0.        , 0.        ],\n",
              "       [0.        , 0.        , 0.        , 0.        ],\n",
              "       [0.5223013 , 0.5931091 , 0.74541292, 0.4805681 ],\n",
              "       [0.73807674, 0.8646994 , 0.76805787, 0.76955776],\n",
              "       [0.        , 0.        , 0.        , 0.        ]])"
            ]
          },
          "metadata": {},
          "execution_count": 7
        }
      ]
    },
    {
      "cell_type": "code",
      "metadata": {
        "id": "yGopsD0IWpDO"
      },
      "source": [
        "def play(env, q_table, render=False):\n",
        "    state = env.reset()\n",
        "    total_reward = 0\n",
        "    steps = 0\n",
        "    done = False\n",
        "    while not done:\n",
        "        action = np.argmax(q_table[state, :])\n",
        "        next_state, reward, done, info = env.step(action)\n",
        "        total_reward += reward\n",
        "        steps += 1\n",
        "        if render:\n",
        "            env.render()\n",
        "            time.sleep(0.2)\n",
        "            if not done:\n",
        "                display.clear_output(wait=True)\n",
        "        state = next_state\n",
        "\n",
        "    return (total_reward, steps)"
      ],
      "execution_count": 3,
      "outputs": []
    },
    {
      "cell_type": "code",
      "source": [
        "def play_multiple_times(env, q_table, max_episodes):\n",
        "    success = 0\n",
        "    list_of_steps = []\n",
        "    for i in range(max_episodes):\n",
        "        total_reward, steps = play(env, q_table)\n",
        "\n",
        "        if total_reward > 0:\n",
        "            success += 1\n",
        "            list_of_steps.append(steps)\n",
        "\n",
        "    print(f'Number of successes: {success}/{max_episodes}')\n",
        "    print(f'Average number of steps: {np.mean(list_of_steps)}')"
      ],
      "metadata": {
        "id": "2l8BKi9TSqRe"
      },
      "execution_count": 4,
      "outputs": []
    },
    {
      "cell_type": "code",
      "source": [
        "play_multiple_times(env, q_table, 1000)"
      ],
      "metadata": {
        "colab": {
          "base_uri": "https://localhost:8080/"
        },
        "id": "hs-EbCUUSvf2",
        "outputId": "63766e9f-8ae3-489e-c110-f9e4cad0a352"
      },
      "execution_count": 10,
      "outputs": [
        {
          "output_type": "stream",
          "name": "stdout",
          "text": [
            "Number of successes: 740/1000\n",
            "Average number of steps: 38.855405405405406\n"
          ]
        }
      ]
    },
    {
      "cell_type": "markdown",
      "source": [
        "## Define SARSA"
      ],
      "metadata": {
        "id": "gBAdQiRtDu0o"
      }
    },
    {
      "cell_type": "code",
      "source": [
        "def sarsa_learning(env, num_episodes, num_steps_per_episode, learning_rate, gamma, max_epsilon, min_epsilon, epsilon_decay_rate):\n",
        "    q_table = np.zeros((env.observation_space.n, env.action_space.n))\n",
        "    rewards_all = []\n",
        "    for episode in range(num_episodes):\n",
        "        state = env.reset()\n",
        "\n",
        "        reward_episode = 0.0\n",
        "        done = False\n",
        "        epsilon = min_epsilon + (max_epsilon - min_epsilon) * np.exp(-epsilon_decay_rate*episode)\n",
        "        # Choose A from S using policy derived from Q \n",
        "        exploration = random.uniform(0,1)\n",
        "        if exploration < epsilon:\n",
        "            action = env.action_space.sample()\n",
        "        else:\n",
        "            action = np.argmax(q_table[state, :])\n",
        "        for step in range(num_steps_per_episode):\n",
        "            # Take action A,observe an experience (𝑠,𝑎,𝑟,𝑠′)\n",
        "            next_state, reward, done, info = env.step(action)\n",
        "            \n",
        "            # Choose next action A' from S' using policy derived from Q\n",
        "            exploration = random.uniform(0,1)\n",
        "            if exploration < epsilon:\n",
        "                next_action = env.action_space.sample()\n",
        "            else:\n",
        "                next_action = np.argmax(q_table[next_state, :])\n",
        "            \n",
        "            # 𝑄(𝑠,𝑎) = 𝑄(𝑠,𝑎) + 𝛼[𝑟 + 𝛾𝑄(𝑠^′,𝑎^′) − 𝑄(𝑠,𝑎)] \n",
        "            q_table[state, action] = q_table[state, action] * (1 - learning_rate) + learning_rate*(reward + gamma * q_table[next_state,next_action])\n",
        "\n",
        "            reward_episode += reward\n",
        "            state = next_state\n",
        "            action = next_action\n",
        "\n",
        "            if done:\n",
        "                break\n",
        "        rewards_all.append(reward_episode)\n",
        "    print(f'Episode {episode} finished')\n",
        "    return q_table, rewards_all"
      ],
      "metadata": {
        "id": "bm4CcsAzSx-f"
      },
      "execution_count": 5,
      "outputs": []
    },
    {
      "cell_type": "markdown",
      "source": [
        "## ⏳Performance of Q-Learning and SARSA\n"
      ],
      "metadata": {
        "id": "rqF17GlYD4SN"
      }
    },
    {
      "cell_type": "markdown",
      "source": [
        "### FrozenLake-v0"
      ],
      "metadata": {
        "id": "r8EkVK8AEVnG"
      }
    },
    {
      "cell_type": "code",
      "source": [
        "# Hyperparameters for FrozenLake-v0\n",
        "gamma = 0.99\n",
        "learning_rate = 0.1\n",
        "max_epsilon = 1.0\n",
        "min_epsilon = 0.01\n",
        "epsilon_decay_rate = 0.005\n",
        "num_episodes = 20000\n",
        "num_steps_per_episode = 100\n",
        "env = gym.make('FrozenLake-v0')\n",
        "time1= time.time()\n",
        "q_table_FLv0_QL, rewards_all1 = q_learning(env, num_episodes, num_steps_per_episode, learning_rate, gamma, max_epsilon, min_epsilon, epsilon_decay_rate)\n",
        "time2= time.time()\n",
        "q_table_flv0_sarsa, rewards_all2 = sarsa_learning(env, num_episodes, num_steps_per_episode, learning_rate, gamma, max_epsilon, min_epsilon, epsilon_decay_rate)\n",
        "time3= time.time()"
      ],
      "metadata": {
        "colab": {
          "base_uri": "https://localhost:8080/"
        },
        "id": "9sdfG-PhD9El",
        "outputId": "e46429c8-28d2-45b1-da88-47f75935fff9"
      },
      "execution_count": 19,
      "outputs": [
        {
          "output_type": "stream",
          "name": "stdout",
          "text": [
            "Episode 19999 finished\n",
            "Episode 19999 finished\n"
          ]
        }
      ]
    },
    {
      "cell_type": "code",
      "source": [
        "play_multiple_times(env, q_table_FLv0_QL, 1000)\n",
        "play_multiple_times(env, q_table_flv0_sarsa, 1000)\n",
        "print(\"Time q learning for FrozenLake-v0    :{:.3f}\".format(time2-time1))\n",
        "print(\"Time sarsa learning for FrozenLake-v0:{:.3f}\".format(time3-time2))"
      ],
      "metadata": {
        "colab": {
          "base_uri": "https://localhost:8080/"
        },
        "id": "fR3M_skcIdgZ",
        "outputId": "2137634c-e2ef-4047-9dd1-004c1140f397"
      },
      "execution_count": 20,
      "outputs": [
        {
          "output_type": "stream",
          "name": "stdout",
          "text": [
            "Number of successes: 711/1000\n",
            "Average number of steps: 38.0042194092827\n",
            "Number of successes: 743/1000\n",
            "Average number of steps: 38.58411843876178\n",
            "Time q learning for FrozenLake-v0    :21.664\n",
            "Time sarsa learning for FrozenLake-v0:11.529\n"
          ]
        }
      ]
    },
    {
      "cell_type": "code",
      "source": [
        "score_history1 =[]\n",
        "score_history2 =[]\n",
        "# Plotting score over time\n",
        "for i in range(500,20000,500):\n",
        "  score_history1.append((np.sum(rewards_all1[i-500:i])/500))\n",
        "  score_history2.append((np.sum(rewards_all2[i-500:i])/500))\n",
        "# plt.plot(list(range(0, 20000)), rewards_all6)\n",
        "plt.plot(list(range(500, 20000+1, 500))[1:], score_history1,label='q_learning')\n",
        "plt.plot(list(range(500, 20000+1, 500))[1:], score_history2,label='sarsa_learning')\n",
        "# plt.axis([0,2000,-400, 100])\n",
        "plt.legend(loc='best')\n",
        "plt.ylabel('Score')\n",
        "plt.xlabel('Number of episodes')\n",
        "plt.title(\"H1 - FrozenLake-v0\")"
      ],
      "metadata": {
        "colab": {
          "base_uri": "https://localhost:8080/",
          "height": 312
        },
        "id": "JC0dI8n5kAtD",
        "outputId": "bbdbd064-3603-4a05-9de8-0bf2c712d0d7"
      },
      "execution_count": 21,
      "outputs": [
        {
          "output_type": "execute_result",
          "data": {
            "text/plain": [
              "Text(0.5, 1.0, 'H1 - FrozenLake-v0')"
            ]
          },
          "metadata": {},
          "execution_count": 21
        },
        {
          "output_type": "display_data",
          "data": {
            "text/plain": [
              "<Figure size 432x288 with 1 Axes>"
            ],
            "image/png": "[encoded data removed]"
          },
          "metadata": {
            "needs_background": "light"
          }
        }
      ]
    },
    {
      "cell_type": "markdown",
      "source": [
        "### nhận xét\n",
        "💬 ⭐Về performance của Q-Learning và SARSA trên **FrozenLake-v0** có thể thấy về thời gian thì sarsa learning có phần tối ưu hơn 53% \n",
        "\n",
        "Kết quả được thể hiện trong H1- FrozenLake-v0 có thể cho thấy Q-learning vượt trội hơn SARSA ở giai đoạn eposode dưới 10000 và SARSA vượt trội hơn so với Q-learning khi num of eposodes tăng lên hơn 10000 \n",
        "\n",
        " ▶ Q learning tốt hơn ở trường hợp num_episodes nhỏ và SARSA thì ngược lại khi số num_episodes tăng lên sự cải thiện cũng tăng theo"
      ],
      "metadata": {
        "id": "sIc4nqdyC-TD"
      }
    },
    {
      "cell_type": "markdown",
      "source": [
        "### FrozenLake8x8-v0"
      ],
      "metadata": {
        "id": "yF2D7vdIINS9"
      }
    },
    {
      "cell_type": "code",
      "source": [
        "# Hyperparameters for FrozenLake8x8-v0\n",
        "gamma = 0.9\n",
        "learning_rate = 0.8\n",
        "max_epsilon = 1.0\n",
        "min_epsilon = 0.001\n",
        "epsilon_decay_rate = 0.00005\n",
        "num_episodes = 250000\n",
        "num_steps_per_episode = 400\n",
        "\n",
        "env = gym.make('FrozenLake8x8-v0')\n",
        "time4= time.time()\n",
        "q_table_FL8x8v0_QL, rewards_all3 = q_learning(env, num_episodes, num_steps_per_episode, learning_rate, gamma, max_epsilon, min_epsilon, epsilon_decay_rate)\n",
        "time4_2= time.time()\n"
      ],
      "metadata": {
        "colab": {
          "base_uri": "https://localhost:8080/"
        },
        "id": "DSPKE7MpFDGe",
        "outputId": "a29da81f-944b-4e70-bd45-7169b1275677"
      },
      "execution_count": 21,
      "outputs": [
        {
          "output_type": "stream",
          "name": "stdout",
          "text": [
            "Episode 249999 finished\n"
          ]
        }
      ]
    },
    {
      "cell_type": "code",
      "source": [
        "env = gym.make('FrozenLake8x8-v0')\n",
        "time5= time.time()\n",
        "q_table_fl8x8v0_sarsa, rewards_all4 = sarsa_learning(env, num_episodes, num_steps_per_episode, learning_rate, gamma, max_epsilon, min_epsilon, epsilon_decay_rate)\n",
        "time6= time.time()"
      ],
      "metadata": {
        "colab": {
          "base_uri": "https://localhost:8080/"
        },
        "id": "BX87NMM1UYs0",
        "outputId": "4e7036df-49f7-4bbc-c382-1acb0d21be06"
      },
      "execution_count": 24,
      "outputs": [
        {
          "output_type": "stream",
          "name": "stdout",
          "text": [
            "Episode 249999 finished\n"
          ]
        }
      ]
    },
    {
      "cell_type": "code",
      "source": [
        "play_multiple_times(env, q_table_FL8x8v0_QL, 1000)\n",
        "play_multiple_times(env, q_table_fl8x8v0_sarsa, 1000)\n",
        "print(\"Time q learning for FrozenLake8x8-v0    :{:.3f}\".format(time4_2-time4))\n",
        "print(\"Time sarsa learning for FrozenLake8x8-v0:{:.3f}\".format(time6-time5))"
      ],
      "metadata": {
        "colab": {
          "base_uri": "https://localhost:8080/"
        },
        "id": "R6QWaoD4T-Xc",
        "outputId": "d9f10b9e-1862-4857-ecf2-124582215cde"
      },
      "execution_count": 25,
      "outputs": [
        {
          "output_type": "stream",
          "name": "stdout",
          "text": [
            "Number of successes: 629/1000\n",
            "Average number of steps: 86.6248012718601\n",
            "Number of successes: 549/1000\n",
            "Average number of steps: 84.10018214936248\n",
            "Time q learning for FrozenLake8x8-v0    :516.610\n",
            "Time sarsa learning for FrozenLake8x8-v0:303.943\n"
          ]
        }
      ]
    },
    {
      "cell_type": "code",
      "source": [
        "score_history1 =[]\n",
        "score_history2 =[]\n",
        "# Plotting score over time\n",
        "for i in range(5000,250000,5000):\n",
        "  score_history1.append((np.sum(rewards_all3[i-5000:i])/5000))\n",
        "  score_history2.append((np.sum(rewards_all4[i-5000:i])/5000))\n",
        "# plt.plot(list(range(0, 10000)), rewards_all6)\n",
        "plt.plot(list(range(5000, 250000+1,5000))[1:], score_history1,label='q_learning')\n",
        "plt.plot(list(range(5000, 250000+1,5000))[1:], score_history2,label='sarsa_learning')\n",
        "# plt.axis([0,25000,-400, 150])\n",
        "plt.legend(loc='best')\n",
        "plt.ylabel('Score')\n",
        "plt.xlabel('Number of episodes')\n",
        "plt.title(\"H2-FrozenLake8x8-v0\")"
      ],
      "metadata": {
        "colab": {
          "base_uri": "https://localhost:8080/",
          "height": 312
        },
        "id": "tTbzmKLmrJAs",
        "outputId": "2cc6289c-b0c0-4f09-cb01-a5dc7c7d19ff"
      },
      "execution_count": 41,
      "outputs": [
        {
          "output_type": "execute_result",
          "data": {
            "text/plain": [
              "Text(0.5, 1.0, 'H2-FrozenLake8x8-v0')"
            ]
          },
          "metadata": {},
          "execution_count": 41
        },
        {
          "output_type": "display_data",
          "data": {
            "text/plain": [
              "<Figure size 432x288 with 1 Axes>"
            ],
            "image/png": "[encoded data removed]"
          },
          "metadata": {
            "needs_background": "light"
          }
        }
      ]
    },
    {
      "cell_type": "markdown",
      "source": [
        "### nhận xét\n",
        "💬 ⭐Về performance của Q-Learning và SARSA trên **FrozenLake8x8-v0** có thể thấy về thời gian thì sarsa learning có phần tối ưu hơn ⁓ 60% \n",
        "\n",
        "Kết quả được thể hiện trong H2- FrozenLake8x8-v0 có thể cho thấy Q-learning vượt trội hơn SARSA ở giai đoạn eposode dưới 12000 và SARSA vượt trội hơn so với Q-learning khi num of eposodes tăng lên hơn 12000 \n",
        "\n",
        " ▶ Q learning tốt hơn ở trường hợp num_episodes ít hơn (giai đoạn đầu) và SARSA thì ngược lại khi số num_episodes tăng lên sự cải thiện cũng tăng theo"
      ],
      "metadata": {
        "id": "ormpHMpsIrOK"
      }
    },
    {
      "cell_type": "markdown",
      "source": [
        "### 🚗Taxi-v3"
      ],
      "metadata": {
        "id": "ss-YpXd3TN5y"
      }
    },
    {
      "cell_type": "code",
      "source": [
        "gamma = 0.99\n",
        "learning_rate = 0.1\n",
        "max_epsilon = 1.0\n",
        "min_epsilon = 0.01\n",
        "epsilon_decay_rate = 0.005\n",
        "num_episodes = 10000\n",
        "num_steps_per_episode = 100\n",
        "env = gym.make('Taxi-v3')\n",
        "time7= time.time()\n",
        "q_table_taxi_QL, rewards_all5 = q_learning(env, num_episodes, num_steps_per_episode, learning_rate, gamma, max_epsilon, min_epsilon, epsilon_decay_rate)\n",
        "time8= time.time()\n",
        "q_table_taxi_sarsa, rewards_all6 = sarsa_learning(env, num_episodes, num_steps_per_episode, learning_rate, gamma, max_epsilon, min_epsilon, epsilon_decay_rate)\n",
        "time9= time.time()"
      ],
      "metadata": {
        "colab": {
          "base_uri": "https://localhost:8080/"
        },
        "id": "6pJVVe73OzAd",
        "outputId": "60958f2b-f833-42e9-9bd7-f6e888ed5e80"
      },
      "execution_count": 27,
      "outputs": [
        {
          "output_type": "stream",
          "name": "stdout",
          "text": [
            "Episode 9999 finished\n",
            "Episode 9999 finished\n"
          ]
        }
      ]
    },
    {
      "cell_type": "code",
      "source": [
        "play_multiple_times(env, q_table_taxi_QL, 1000)\n",
        "play_multiple_times(env, q_table_taxi_sarsa, 1000)\n",
        "print(\"Time q learning for taxi-v3    :{:.3f}\".format(time8-time7))\n",
        "print(\"Time sarsa learning for taxi-v3:{:.3f}\".format(time9-time8))"
      ],
      "metadata": {
        "colab": {
          "base_uri": "https://localhost:8080/"
        },
        "id": "2fGhgdq3S9F-",
        "outputId": "2d3ab61e-c454-4206-9d7f-3f5ff3e4405a"
      },
      "execution_count": 28,
      "outputs": [
        {
          "output_type": "stream",
          "name": "stdout",
          "text": [
            "Number of successes: 1000/1000\n",
            "Average number of steps: 13.069\n",
            "Number of successes: 1000/1000\n",
            "Average number of steps: 13.179\n",
            "Time q learning for taxi-v3    :5.428\n",
            "Time sarsa learning for taxi-v3:3.498\n"
          ]
        }
      ]
    },
    {
      "cell_type": "code",
      "source": [
        "score_history1 =[]\n",
        "score_history2 =[]\n",
        "# Plotting score over time\n",
        "for i in range(100,10000,100):\n",
        "  score_history1.append((np.sum(rewards_all5[i-100:i])/100))\n",
        "  score_history2.append((np.sum(rewards_all6[i-100:i])/100))\n",
        "# plt.plot(list(range(0, 10000)), rewards_all6)\n",
        "plt.plot(list(range(100, 10000+1, 100))[1:], score_history1,label='q_learning')\n",
        "plt.plot(list(range(100, 10000+1, 100))[1:], score_history2,label='sarsa_learning')\n",
        "plt.axis([190,500,-400, 0])\n",
        "plt.ylabel('Score')\n",
        "plt.xlabel('Number of episodes')\n",
        "plt.legend(loc='best')\n",
        "plt.title(\"H3 - Taxi-v3\")\n",
        "plt.show()\n",
        "plt.plot(list(range(100, 10000+1, 100))[1:], score_history1,label='q_learning')\n",
        "plt.plot(list(range(100, 10000+1, 100))[1:], score_history2,label='sarsa_learning')\n",
        "plt.axis([100,2000,-400, 150])\n",
        "plt.ylabel('Score')\n",
        "plt.xlabel('Number of episodes')\n",
        "plt.legend(loc='best')\n",
        "plt.title(\"H3 - Taxi-v3\")\n",
        "plt.show()"
      ],
      "metadata": {
        "colab": {
          "base_uri": "https://localhost:8080/",
          "height": 573
        },
        "id": "eWwdV37CbnNE",
        "outputId": "918a5624-346a-49d1-c578-378ebe3d2f12"
      },
      "execution_count": 40,
      "outputs": [
        {
          "output_type": "display_data",
          "data": {
            "text/plain": [
              "<Figure size 432x288 with 1 Axes>"
            ],
            "image/png": "[encoded data removed]"
          },
          "metadata": {
            "needs_background": "light"
          }
        },
        {
          "output_type": "display_data",
          "data": {
            "text/plain": [
              "<Figure size 432x288 with 1 Axes>"
            ],
            "image/png": "[encoded data removed]"
          },
          "metadata": {
            "needs_background": "light"
          }
        }
      ]
    },
    {
      "cell_type": "markdown",
      "source": [
        "### nhận xét\n",
        "💬 ⭐Về performance của Q-Learning và SARSA trên **Taxi-v3** có thể thấy về thời gian thì sarsa learning có phần tối ưu hơn 62,9% \n",
        "\n",
        "Kết quả được thể hiện trong H3-Taxi-v3 có thể cho thấy Q-learning vượt trội hơn SARSA ở giai đoạn eposode dưới 300 và SARSA vượt trội hơn so với Q-learning khi num of eposodes tăng lên hơn 300\n",
        "\n",
        " ▶ Q learning tốt hơn ở trường hợp num_episodes nhỏ và SARSA thì ngược lại khi số num_episodes tăng lên sự cải thiện cũng tăng theo"
      ],
      "metadata": {
        "id": "_HBA3whKdyfz"
      }
    }
  ]
}